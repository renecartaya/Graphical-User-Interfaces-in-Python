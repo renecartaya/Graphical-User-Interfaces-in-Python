{
 "cells": [
  {
   "cell_type": "code",
   "execution_count": 32,
   "id": "663644f5-4c59-4640-a26b-7c196077663e",
   "metadata": {},
   "outputs": [
    {
     "name": "stdout",
     "output_type": "stream",
     "text": [
      "(None, None)\n"
     ]
    }
   ],
   "source": [
    "######################################################################################\n",
    "#                                                                                    #\n",
    "#             Python program to create color chooser dialog box                      #\n",
    "#                                                                                    #\n",
    "######################################################################################\n",
    "\n",
    "from tkinter import * # importing tkinter module\n",
    "from tkinter import colorchooser # importing the choosecolor package\n",
    " \n",
    "root = Tk()    \n",
    "root.geometry(\"350x150\")\n",
    "root.title('GUI Color ID')\n",
    "root.iconbitmap('C:/Users/ASUS/Pictures/Logos/generic-logo.ico')\n",
    "    \n",
    "# =========================== Functions sections ======================== #\n",
    "\n",
    "def choose_color():\n",
    " \n",
    "    # variable to store hexadecimal code of color\n",
    "    color_code = colorchooser.askcolor(title =\"Choose color\")\n",
    "    print(color_code)\n",
    " \n",
    "# =========================== Interface sections ======================== #\n",
    "\n",
    "\n",
    "button = Button(root, \n",
    "                text = \"Select color\",\n",
    "                command = choose_color,\n",
    "                bg='#5e5eff', \n",
    "                fg='white')\n",
    "button.place(x = 120, y = 50 )\n",
    "\n",
    "root.mainloop()"
   ]
  },
  {
   "cell_type": "code",
   "execution_count": null,
   "id": "68296fdb-84af-4e04-b77e-ae4fa4ed9834",
   "metadata": {},
   "outputs": [],
   "source": []
  }
 ],
 "metadata": {
  "kernelspec": {
   "display_name": "Python 3 (ipykernel)",
   "language": "python",
   "name": "python3"
  },
  "language_info": {
   "codemirror_mode": {
    "name": "ipython",
    "version": 3
   },
   "file_extension": ".py",
   "mimetype": "text/x-python",
   "name": "python",
   "nbconvert_exporter": "python",
   "pygments_lexer": "ipython3",
   "version": "3.9.12"
  }
 },
 "nbformat": 4,
 "nbformat_minor": 5
}
